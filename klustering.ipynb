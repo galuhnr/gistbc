{
  "nbformat": 4,
  "nbformat_minor": 0,
  "metadata": {
    "colab": {
      "name": "klustering",
      "provenance": [],
      "authorship_tag": "ABX9TyMniZpIDQrh5KVvD2icH1b+",
      "include_colab_link": true
    },
    "kernelspec": {
      "name": "python3",
      "display_name": "Python 3"
    }
  },
  "cells": [
    {
      "cell_type": "markdown",
      "metadata": {
        "id": "view-in-github",
        "colab_type": "text"
      },
      "source": [
        "<a href=\"https://colab.research.google.com/github/galuhnr/gistbc/blob/main/klustering.ipynb\" target=\"_parent\"><img src=\"https://colab.research.google.com/assets/colab-badge.svg\" alt=\"Open In Colab\"/></a>"
      ]
    },
    {
      "cell_type": "code",
      "metadata": {
        "id": "xR1YvVZKn8cQ"
      },
      "source": [
        "import pandas as pd\r\n",
        "import numpy as np\r\n",
        "from scipy.cluster.hierarchy import dendrogram, fcluster\r\n",
        "from scipy.cluster import hierarchy"
      ],
      "execution_count": 19,
      "outputs": []
    },
    {
      "cell_type": "code",
      "metadata": {
        "colab": {
          "base_uri": "https://localhost:8080/"
        },
        "id": "nuI4kM8woX-t",
        "outputId": "3fd7d369-b848-4284-d5ac-96471eb0e199"
      },
      "source": [
        "dataset = pd.read_csv('2016.csv')\r\n",
        "\r\n",
        "dataset.isnull().sum().sort_values(ascending=True).head()"
      ],
      "execution_count": 20,
      "outputs": [
        {
          "output_type": "execute_result",
          "data": {
            "text/plain": [
              "faskes                0\n",
              "kasus                 0\n",
              "rumah tidak sehat     0\n",
              "kepadatan penduduk    0\n",
              "dtype: int64"
            ]
          },
          "metadata": {
            "tags": []
          },
          "execution_count": 20
        }
      ]
    },
    {
      "cell_type": "code",
      "metadata": {
        "colab": {
          "base_uri": "https://localhost:8080/",
          "height": 595
        },
        "id": "8b1UFOIPoi7O",
        "outputId": "a627fc95-6782-4644-e147-23a0afbd9c49"
      },
      "source": [
        "Z = hierarchy.linkage(dataset, 'centroid')\r\n",
        "plt.figure(figsize=(15,10))\r\n",
        "dn = hierarchy.dendrogram(Z)"
      ],
      "execution_count": 21,
      "outputs": [
        {
          "output_type": "display_data",
          "data": {
            "image/png": "[encoded data removed]",
            "text/plain": [
              "<Figure size 1080x720 with 1 Axes>"
            ]
          },
          "metadata": {
            "tags": [],
            "needs_background": "light"
          }
        }
      ]
    },
    {
      "cell_type": "code",
      "metadata": {
        "colab": {
          "base_uri": "https://localhost:8080/"
        },
        "id": "V1Q7cmKoO0TK",
        "outputId": "59c01920-4d41-4363-a76e-91af815c3af7"
      },
      "source": [
        "fcluster(Z, t=3, criterion='maxclust')"
      ],
      "execution_count": 42,
      "outputs": [
        {
          "output_type": "execute_result",
          "data": {
            "text/plain": [
              "array([1, 1, 1, 1, 1, 1, 1, 1, 2, 2, 3, 1, 2, 1, 1, 2, 2, 2, 1, 1, 1, 1,\n",
              "       1, 2, 2, 1, 1, 1, 1, 1, 1], dtype=int32)"
            ]
          },
          "metadata": {
            "tags": []
          },
          "execution_count": 42
        }
      ]
    },
    {
      "cell_type": "code",
      "metadata": {
        "id": "_5YhqbW-O5nY"
      },
      "source": [
        "numpy_data = np.array(fcluster(Z, t=3, criterion='maxclust'))\r\n",
        "dz = pd.DataFrame(data=numpy_data)"
      ],
      "execution_count": 45,
      "outputs": []
    },
    {
      "cell_type": "code",
      "metadata": {
        "colab": {
          "base_uri": "https://localhost:8080/",
          "height": 1000
        },
        "id": "Qalxi3UEPUVk",
        "outputId": "e144902e-b350-49ab-8e29-e4ffe1ecc9bb"
      },
      "source": [
        "hasil = pd.concat([dataset, pd.DataFrame({'cluster':numpy_data})], axis=1)\r\n",
        "hasil"
      ],
      "execution_count": 46,
      "outputs": [
        {
          "output_type": "execute_result",
          "data": {
            "text/html": [
              "<div>\n",
              "<style scoped>\n",
              "    .dataframe tbody tr th:only-of-type {\n",
              "        vertical-align: middle;\n",
              "    }\n",
              "\n",
              "    .dataframe tbody tr th {\n",
              "        vertical-align: top;\n",
              "    }\n",
              "\n",
              "    .dataframe thead th {\n",
              "        text-align: right;\n",
              "    }\n",
              "</style>\n",
              "<table border=\"1\" class=\"dataframe\">\n",
              "  <thead>\n",
              "    <tr style=\"text-align: right;\">\n",
              "      <th></th>\n",
              "      <th>faskes</th>\n",
              "      <th>kasus</th>\n",
              "      <th>rumah tidak sehat</th>\n",
              "      <th>kepadatan penduduk</th>\n",
              "      <th>cluster</th>\n",
              "    </tr>\n",
              "  </thead>\n",
              "  <tbody>\n",
              "    <tr>\n",
              "      <th>0</th>\n",
              "      <td>2</td>\n",
              "      <td>91</td>\n",
              "      <td>4532</td>\n",
              "      <td>10660</td>\n",
              "      <td>1</td>\n",
              "    </tr>\n",
              "    <tr>\n",
              "      <th>1</th>\n",
              "      <td>2</td>\n",
              "      <td>170</td>\n",
              "      <td>4963</td>\n",
              "      <td>8021</td>\n",
              "      <td>1</td>\n",
              "    </tr>\n",
              "    <tr>\n",
              "      <th>2</th>\n",
              "      <td>1</td>\n",
              "      <td>80</td>\n",
              "      <td>3679</td>\n",
              "      <td>2939</td>\n",
              "      <td>1</td>\n",
              "    </tr>\n",
              "    <tr>\n",
              "      <th>3</th>\n",
              "      <td>1</td>\n",
              "      <td>64</td>\n",
              "      <td>1427</td>\n",
              "      <td>2422</td>\n",
              "      <td>1</td>\n",
              "    </tr>\n",
              "    <tr>\n",
              "      <th>4</th>\n",
              "      <td>1</td>\n",
              "      <td>62</td>\n",
              "      <td>1351</td>\n",
              "      <td>2261</td>\n",
              "      <td>1</td>\n",
              "    </tr>\n",
              "    <tr>\n",
              "      <th>5</th>\n",
              "      <td>3</td>\n",
              "      <td>49</td>\n",
              "      <td>3731</td>\n",
              "      <td>3156</td>\n",
              "      <td>1</td>\n",
              "    </tr>\n",
              "    <tr>\n",
              "      <th>6</th>\n",
              "      <td>2</td>\n",
              "      <td>61</td>\n",
              "      <td>1896</td>\n",
              "      <td>3047</td>\n",
              "      <td>1</td>\n",
              "    </tr>\n",
              "    <tr>\n",
              "      <th>7</th>\n",
              "      <td>2</td>\n",
              "      <td>91</td>\n",
              "      <td>944</td>\n",
              "      <td>14415</td>\n",
              "      <td>1</td>\n",
              "    </tr>\n",
              "    <tr>\n",
              "      <th>8</th>\n",
              "      <td>2</td>\n",
              "      <td>132</td>\n",
              "      <td>4093</td>\n",
              "      <td>23433</td>\n",
              "      <td>2</td>\n",
              "    </tr>\n",
              "    <tr>\n",
              "      <th>9</th>\n",
              "      <td>2</td>\n",
              "      <td>119</td>\n",
              "      <td>5206</td>\n",
              "      <td>26097</td>\n",
              "      <td>2</td>\n",
              "    </tr>\n",
              "    <tr>\n",
              "      <th>10</th>\n",
              "      <td>2</td>\n",
              "      <td>133</td>\n",
              "      <td>3011</td>\n",
              "      <td>37372</td>\n",
              "      <td>3</td>\n",
              "    </tr>\n",
              "    <tr>\n",
              "      <th>11</th>\n",
              "      <td>1</td>\n",
              "      <td>198</td>\n",
              "      <td>8782</td>\n",
              "      <td>11732</td>\n",
              "      <td>1</td>\n",
              "    </tr>\n",
              "    <tr>\n",
              "      <th>12</th>\n",
              "      <td>4</td>\n",
              "      <td>222</td>\n",
              "      <td>6031</td>\n",
              "      <td>21249</td>\n",
              "      <td>2</td>\n",
              "    </tr>\n",
              "    <tr>\n",
              "      <th>13</th>\n",
              "      <td>3</td>\n",
              "      <td>165</td>\n",
              "      <td>8947</td>\n",
              "      <td>13877</td>\n",
              "      <td>1</td>\n",
              "    </tr>\n",
              "    <tr>\n",
              "      <th>14</th>\n",
              "      <td>1</td>\n",
              "      <td>20</td>\n",
              "      <td>133</td>\n",
              "      <td>7115</td>\n",
              "      <td>1</td>\n",
              "    </tr>\n",
              "    <tr>\n",
              "      <th>15</th>\n",
              "      <td>4</td>\n",
              "      <td>268</td>\n",
              "      <td>7145</td>\n",
              "      <td>17745</td>\n",
              "      <td>2</td>\n",
              "    </tr>\n",
              "    <tr>\n",
              "      <th>16</th>\n",
              "      <td>3</td>\n",
              "      <td>266</td>\n",
              "      <td>3169</td>\n",
              "      <td>24198</td>\n",
              "      <td>2</td>\n",
              "    </tr>\n",
              "    <tr>\n",
              "      <th>17</th>\n",
              "      <td>2</td>\n",
              "      <td>122</td>\n",
              "      <td>3564</td>\n",
              "      <td>16768</td>\n",
              "      <td>2</td>\n",
              "    </tr>\n",
              "    <tr>\n",
              "      <th>18</th>\n",
              "      <td>2</td>\n",
              "      <td>86</td>\n",
              "      <td>1064</td>\n",
              "      <td>5021</td>\n",
              "      <td>1</td>\n",
              "    </tr>\n",
              "    <tr>\n",
              "      <th>19</th>\n",
              "      <td>1</td>\n",
              "      <td>22</td>\n",
              "      <td>3524</td>\n",
              "      <td>9953</td>\n",
              "      <td>1</td>\n",
              "    </tr>\n",
              "    <tr>\n",
              "      <th>20</th>\n",
              "      <td>1</td>\n",
              "      <td>31</td>\n",
              "      <td>160</td>\n",
              "      <td>5442</td>\n",
              "      <td>1</td>\n",
              "    </tr>\n",
              "    <tr>\n",
              "      <th>21</th>\n",
              "      <td>3</td>\n",
              "      <td>89</td>\n",
              "      <td>6053</td>\n",
              "      <td>4449</td>\n",
              "      <td>1</td>\n",
              "    </tr>\n",
              "    <tr>\n",
              "      <th>22</th>\n",
              "      <td>2</td>\n",
              "      <td>62</td>\n",
              "      <td>2507</td>\n",
              "      <td>11959</td>\n",
              "      <td>1</td>\n",
              "    </tr>\n",
              "    <tr>\n",
              "      <th>23</th>\n",
              "      <td>4</td>\n",
              "      <td>231</td>\n",
              "      <td>6091</td>\n",
              "      <td>23624</td>\n",
              "      <td>2</td>\n",
              "    </tr>\n",
              "    <tr>\n",
              "      <th>24</th>\n",
              "      <td>3</td>\n",
              "      <td>137</td>\n",
              "      <td>4330</td>\n",
              "      <td>11132</td>\n",
              "      <td>2</td>\n",
              "    </tr>\n",
              "    <tr>\n",
              "      <th>25</th>\n",
              "      <td>1</td>\n",
              "      <td>57</td>\n",
              "      <td>1331</td>\n",
              "      <td>7668</td>\n",
              "      <td>1</td>\n",
              "    </tr>\n",
              "    <tr>\n",
              "      <th>26</th>\n",
              "      <td>1</td>\n",
              "      <td>40</td>\n",
              "      <td>1873</td>\n",
              "      <td>5860</td>\n",
              "      <td>1</td>\n",
              "    </tr>\n",
              "    <tr>\n",
              "      <th>27</th>\n",
              "      <td>2</td>\n",
              "      <td>54</td>\n",
              "      <td>3114</td>\n",
              "      <td>5342</td>\n",
              "      <td>1</td>\n",
              "    </tr>\n",
              "    <tr>\n",
              "      <th>28</th>\n",
              "      <td>1</td>\n",
              "      <td>18</td>\n",
              "      <td>107</td>\n",
              "      <td>7225</td>\n",
              "      <td>1</td>\n",
              "    </tr>\n",
              "    <tr>\n",
              "      <th>29</th>\n",
              "      <td>3</td>\n",
              "      <td>72</td>\n",
              "      <td>947</td>\n",
              "      <td>11494</td>\n",
              "      <td>1</td>\n",
              "    </tr>\n",
              "    <tr>\n",
              "      <th>30</th>\n",
              "      <td>1</td>\n",
              "      <td>32</td>\n",
              "      <td>1604</td>\n",
              "      <td>11468</td>\n",
              "      <td>1</td>\n",
              "    </tr>\n",
              "  </tbody>\n",
              "</table>\n",
              "</div>"
            ],
            "text/plain": [
              "    faskes  kasus  rumah tidak sehat  kepadatan penduduk  cluster\n",
              "0        2     91               4532               10660        1\n",
              "1        2    170               4963                8021        1\n",
              "2        1     80               3679                2939        1\n",
              "3        1     64               1427                2422        1\n",
              "4        1     62               1351                2261        1\n",
              "5        3     49               3731                3156        1\n",
              "6        2     61               1896                3047        1\n",
              "7        2     91                944               14415        1\n",
              "8        2    132               4093               23433        2\n",
              "9        2    119               5206               26097        2\n",
              "10       2    133               3011               37372        3\n",
              "11       1    198               8782               11732        1\n",
              "12       4    222               6031               21249        2\n",
              "13       3    165               8947               13877        1\n",
              "14       1     20                133                7115        1\n",
              "15       4    268               7145               17745        2\n",
              "16       3    266               3169               24198        2\n",
              "17       2    122               3564               16768        2\n",
              "18       2     86               1064                5021        1\n",
              "19       1     22               3524                9953        1\n",
              "20       1     31                160                5442        1\n",
              "21       3     89               6053                4449        1\n",
              "22       2     62               2507               11959        1\n",
              "23       4    231               6091               23624        2\n",
              "24       3    137               4330               11132        2\n",
              "25       1     57               1331                7668        1\n",
              "26       1     40               1873                5860        1\n",
              "27       2     54               3114                5342        1\n",
              "28       1     18                107                7225        1\n",
              "29       3     72                947               11494        1\n",
              "30       1     32               1604               11468        1"
            ]
          },
          "metadata": {
            "tags": []
          },
          "execution_count": 46
        }
      ]
    },
    {
      "cell_type": "code",
      "metadata": {
        "colab": {
          "base_uri": "https://localhost:8080/"
        },
        "id": "GjHlqq7mK5_q",
        "outputId": "dde02658-282d-4587-bcd1-a8cc2ada7db2"
      },
      "source": [
        "col_list = [\"kasus\"]\r\n",
        "df = pd.read_csv('2016.csv', usecols=col_list)\r\n",
        "\r\n",
        "df.isnull().sum().sort_values(ascending=True).head()"
      ],
      "execution_count": 31,
      "outputs": [
        {
          "output_type": "execute_result",
          "data": {
            "text/plain": [
              "kasus    0\n",
              "dtype: int64"
            ]
          },
          "metadata": {
            "tags": []
          },
          "execution_count": 31
        }
      ]
    },
    {
      "cell_type": "code",
      "metadata": {
        "colab": {
          "base_uri": "https://localhost:8080/",
          "height": 595
        },
        "id": "ff8A7DDBLWHn",
        "outputId": "df12636d-f366-4902-c349-2dfc8fc898c0"
      },
      "source": [
        "hr = hierarchy.linkage(df, 'centroid')\r\n",
        "plt.figure(figsize=(15,10))\r\n",
        "dg = hierarchy.dendrogram(hr)"
      ],
      "execution_count": 32,
      "outputs": [
        {
          "output_type": "display_data",
          "data": {
            "image/png": "[encoded data removed]",
            "text/plain": [
              "<Figure size 1080x720 with 1 Axes>"
            ]
          },
          "metadata": {
            "tags": [],
            "needs_background": "light"
          }
        }
      ]
    },
    {
      "cell_type": "code",
      "metadata": {
        "colab": {
          "base_uri": "https://localhost:8080/"
        },
        "id": "KFWTGNB2PhlV",
        "outputId": "34a379d5-07df-4661-f445-acd6f5d99f72"
      },
      "source": [
        "fcluster(hr, t=3, criterion='maxclust')"
      ],
      "execution_count": 47,
      "outputs": [
        {
          "output_type": "execute_result",
          "data": {
            "text/plain": [
              "array([3, 2, 3, 3, 3, 3, 3, 3, 2, 2, 2, 1, 1, 2, 3, 1, 1, 2, 3, 3, 3, 3,\n",
              "       3, 1, 2, 3, 3, 3, 3, 3, 3], dtype=int32)"
            ]
          },
          "metadata": {
            "tags": []
          },
          "execution_count": 47
        }
      ]
    },
    {
      "cell_type": "code",
      "metadata": {
        "colab": {
          "base_uri": "https://localhost:8080/"
        },
        "id": "rOT8UTUDFMLz",
        "outputId": "499c5ec5-bb56-40e1-d1cc-3389e79ad0c2"
      },
      "source": [
        "dataset2 = pd.read_csv('2017.csv')\r\n",
        "\r\n",
        "dataset2.isnull().sum().sort_values(ascending=True).head()"
      ],
      "execution_count": 23,
      "outputs": [
        {
          "output_type": "execute_result",
          "data": {
            "text/plain": [
              "faskes                0\n",
              "kasus                 0\n",
              "rumah tidak sehat     0\n",
              "kepadatan penduduk    0\n",
              "dtype: int64"
            ]
          },
          "metadata": {
            "tags": []
          },
          "execution_count": 23
        }
      ]
    },
    {
      "cell_type": "code",
      "metadata": {
        "colab": {
          "base_uri": "https://localhost:8080/",
          "height": 595
        },
        "id": "Xn1CJ5cwFTyo",
        "outputId": "e01456a4-7973-4dfa-86c3-7453349f18c2"
      },
      "source": [
        "Z = hierarchy.linkage(dataset2, 'centroid')\r\n",
        "plt.figure(figsize=(15,10))\r\n",
        "dn = hierarchy.dendrogram(Z)"
      ],
      "execution_count": 24,
      "outputs": [
        {
          "output_type": "display_data",
          "data": {
            "image/png": "[encoded data removed]",
            "text/plain": [
              "<Figure size 1080x720 with 1 Axes>"
            ]
          },
          "metadata": {
            "tags": [],
            "needs_background": "light"
          }
        }
      ]
    },
    {
      "cell_type": "code",
      "metadata": {
        "colab": {
          "base_uri": "https://localhost:8080/"
        },
        "id": "L6v8zqgdM0Vz",
        "outputId": "52efbe31-db8e-4fd8-f659-fa3453fc1e2c"
      },
      "source": [
        "col_list = [\"kasus\"]\r\n",
        "df2 = pd.read_csv('2017.csv', usecols=col_list)\r\n",
        "\r\n",
        "df2.isnull().sum().sort_values(ascending=True).head()"
      ],
      "execution_count": 33,
      "outputs": [
        {
          "output_type": "execute_result",
          "data": {
            "text/plain": [
              "kasus    0\n",
              "dtype: int64"
            ]
          },
          "metadata": {
            "tags": []
          },
          "execution_count": 33
        }
      ]
    },
    {
      "cell_type": "code",
      "metadata": {
        "colab": {
          "base_uri": "https://localhost:8080/",
          "height": 595
        },
        "id": "9f2GYjS8NBsL",
        "outputId": "e1cd6f46-3b66-4bc9-fcfa-8b9c8e79222f"
      },
      "source": [
        "hr2 = hierarchy.linkage(df2, 'centroid')\r\n",
        "plt.figure(figsize=(15,10))\r\n",
        "dg = hierarchy.dendrogram(hr2)"
      ],
      "execution_count": 34,
      "outputs": [
        {
          "output_type": "display_data",
          "data": {
            "image/png": "[encoded data removed]",
            "text/plain": [
              "<Figure size 1080x720 with 1 Axes>"
            ]
          },
          "metadata": {
            "tags": [],
            "needs_background": "light"
          }
        }
      ]
    },
    {
      "cell_type": "code",
      "metadata": {
        "colab": {
          "base_uri": "https://localhost:8080/"
        },
        "id": "rMN8OJgnNMl_",
        "outputId": "8a5da713-bac2-40df-fd37-64f424168a11"
      },
      "source": [
        "col_list = [\"faskes\"]\r\n",
        "df_faskes = pd.read_csv('2017.csv', usecols=col_list)\r\n",
        "\r\n",
        "df_faskes.isnull().sum().sort_values(ascending=True).head()"
      ],
      "execution_count": 35,
      "outputs": [
        {
          "output_type": "execute_result",
          "data": {
            "text/plain": [
              "faskes    0\n",
              "dtype: int64"
            ]
          },
          "metadata": {
            "tags": []
          },
          "execution_count": 35
        }
      ]
    },
    {
      "cell_type": "code",
      "metadata": {
        "colab": {
          "base_uri": "https://localhost:8080/",
          "height": 595
        },
        "id": "nLXDh5ZINT1c",
        "outputId": "5cf9be74-a1ab-4af4-b5c7-21031839b50b"
      },
      "source": [
        "hr_faskes = hierarchy.linkage(df_faskes, 'centroid')\r\n",
        "plt.figure(figsize=(15,10))\r\n",
        "dendro = hierarchy.dendrogram(hr_faskes)"
      ],
      "execution_count": 41,
      "outputs": [
        {
          "output_type": "display_data",
          "data": {
            "image/png": "[encoded data removed]",
            "text/plain": [
              "<Figure size 1080x720 with 1 Axes>"
            ]
          },
          "metadata": {
            "tags": [],
            "needs_background": "light"
          }
        }
      ]
    },
    {
      "cell_type": "code",
      "metadata": {
        "colab": {
          "base_uri": "https://localhost:8080/"
        },
        "id": "OhCi7u-KJKez",
        "outputId": "1c08e0f6-afa8-49c5-eb9c-1726b22a74a5"
      },
      "source": [
        "dataset3 = pd.read_csv('2018.csv')\r\n",
        "\r\n",
        "dataset3.isnull().sum().sort_values(ascending=True).head()"
      ],
      "execution_count": 27,
      "outputs": [
        {
          "output_type": "execute_result",
          "data": {
            "text/plain": [
              "faskes                0\n",
              "kasus                 0\n",
              "rumah tidak sehat     0\n",
              "kepadatan penduduk    0\n",
              "dtype: int64"
            ]
          },
          "metadata": {
            "tags": []
          },
          "execution_count": 27
        }
      ]
    },
    {
      "cell_type": "code",
      "metadata": {
        "colab": {
          "base_uri": "https://localhost:8080/",
          "height": 595
        },
        "id": "s_DOWe57JS61",
        "outputId": "e1e22786-84ad-402a-9dda-09385163a706"
      },
      "source": [
        "Z = hierarchy.linkage(dataset3, 'centroid')\r\n",
        "plt.figure(figsize=(15,10))\r\n",
        "dn = hierarchy.dendrogram(Z)"
      ],
      "execution_count": 28,
      "outputs": [
        {
          "output_type": "display_data",
          "data": {
            "image/png": "[encoded data removed]",
            "text/plain": [
              "<Figure size 1080x720 with 1 Axes>"
            ]
          },
          "metadata": {
            "tags": [],
            "needs_background": "light"
          }
        }
      ]
    },
    {
      "cell_type": "code",
      "metadata": {
        "colab": {
          "base_uri": "https://localhost:8080/"
        },
        "id": "OfOgtQFwKRif",
        "outputId": "80923662-04b2-42fe-c2ae-7da099b4177f"
      },
      "source": [
        "dataset4 = pd.read_csv('2019.csv')\r\n",
        "\r\n",
        "dataset3.isnull().sum().sort_values(ascending=True).head()"
      ],
      "execution_count": 29,
      "outputs": [
        {
          "output_type": "execute_result",
          "data": {
            "text/plain": [
              "faskes                0\n",
              "kasus                 0\n",
              "rumah tidak sehat     0\n",
              "kepadatan penduduk    0\n",
              "dtype: int64"
            ]
          },
          "metadata": {
            "tags": []
          },
          "execution_count": 29
        }
      ]
    },
    {
      "cell_type": "code",
      "metadata": {
        "colab": {
          "base_uri": "https://localhost:8080/",
          "height": 595
        },
        "id": "UU-TXpU4KYl2",
        "outputId": "5f5f4026-b909-4f40-c05b-f80a3abd2adb"
      },
      "source": [
        "Z = hierarchy.linkage(dataset4, 'centroid')\r\n",
        "plt.figure(figsize=(15,10))\r\n",
        "dn = hierarchy.dendrogram(Z)"
      ],
      "execution_count": 30,
      "outputs": [
        {
          "output_type": "display_data",
          "data": {
            "image/png": "[encoded data removed]",
            "text/plain": [
              "<Figure size 1080x720 with 1 Axes>"
            ]
          },
          "metadata": {
            "tags": [],
            "needs_background": "light"
          }
        }
      ]
    }
  ]
}